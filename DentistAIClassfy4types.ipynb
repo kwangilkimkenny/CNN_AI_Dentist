{
 "cells": [
  {
   "cell_type": "code",
   "execution_count": 27,
   "metadata": {},
   "outputs": [],
   "source": [
    "import numpy as np\n",
    "import keras\n",
    "from keras.utils import np_utils\n",
    "from keras.models import Sequential\n",
    "from keras.layers import Dense\n",
    "from keras.layers import Flatten\n",
    "from keras.layers.convolutional import Conv2D\n",
    "from keras.layers.convolutional import MaxPooling2D\n",
    "from keras.preprocessing.image import ImageDataGenerator\n",
    "from keras.callbacks import EarlyStopping\n",
    "\n",
    "from PIL import ImageFile\n",
    "ImageFile.LOAD_TRUNCATED_IMAGES = True\n",
    "\n",
    "\n",
    "# 랜덤시드 고정시키기\n",
    "np.random.seed(3)"
   ]
  },
  {
   "cell_type": "markdown",
   "metadata": {},
   "source": [
    "Datageration Class1"
   ]
  },
  {
   "cell_type": "code",
   "execution_count": 2,
   "metadata": {},
   "outputs": [],
   "source": [
    "from keras.preprocessing.image import ImageDataGenerator, array_to_img, img_to_array, load_img\n",
    "\n",
    "train_datagen = ImageDataGenerator(rescale=1./255, \n",
    "                                   rotation_range=10,\n",
    "                                   width_shift_range=0.2,\n",
    "                                   height_shift_range=0.2,\n",
    "                                   shear_range=0.7,\n",
    "                                   zoom_range=[0.9, 2.2],\n",
    "                                   horizontal_flip=True,\n",
    "                                   vertical_flip=True,\n",
    "                                   fill_mode='nearest')\n",
    "\n",
    "img = load_img('DataSets/D/20200111_113051.png')\n",
    "x = img_to_array(img)\n",
    "x = x.reshape((1,) + x.shape)\n",
    "\n",
    "i = 0\n",
    "\n",
    "for batch in train_datagen.flow(x, batch_size=1, save_to_dir='DataSets/D', save_prefix='tri', save_format='png'):\n",
    "    i += 1\n",
    "    if i > 100: \n",
    "        break"
   ]
  },
  {
   "cell_type": "markdown",
   "metadata": {},
   "source": [
    "Datageneration Class2"
   ]
  },
  {
   "cell_type": "code",
   "execution_count": 11,
   "metadata": {},
   "outputs": [],
   "source": [
    "from keras.preprocessing.image import ImageDataGenerator, array_to_img, img_to_array, load_img\n",
    "\n",
    "train_datagen = ImageDataGenerator(rescale=1./255, \n",
    "                                   rotation_range=10,\n",
    "                                   width_shift_range=0.2,\n",
    "                                   height_shift_range=0.2,\n",
    "                                   shear_range=0.7,\n",
    "                                   zoom_range=[0.9, 2.2],\n",
    "                                   horizontal_flip=True,\n",
    "                                   vertical_flip=True,\n",
    "                                   fill_mode='nearest')\n",
    "\n",
    "img = load_img('DataSets_02/train/FacePic_Class1/EO (1) copy 18.jpg')\n",
    "x = img_to_array(img)\n",
    "x = x.reshape((1,) + x.shape)\n",
    "\n",
    "i = 0\n",
    "\n",
    "for batch in train_datagen.flow(x, batch_size=1, save_to_dir='DataSets_02/train/FacePic_Class1', save_prefix='tri', save_format='png'):\n",
    "    i += 1\n",
    "    if i > 5: \n",
    "        break"
   ]
  },
  {
   "cell_type": "markdown",
   "metadata": {},
   "source": [
    "Datageneration Class3"
   ]
  },
  {
   "cell_type": "code",
   "execution_count": 63,
   "metadata": {},
   "outputs": [],
   "source": [
    "from keras.preprocessing.image import ImageDataGenerator, array_to_img, img_to_array, load_img\n",
    "\n",
    "train_datagen = ImageDataGenerator(rescale=1./255, \n",
    "                                   rotation_range=10,\n",
    "                                   width_shift_range=0.2,\n",
    "                                   height_shift_range=0.2,\n",
    "                                   shear_range=0.7,\n",
    "                                   zoom_range=[0.9, 2.2],\n",
    "                                   horizontal_flip=True,\n",
    "                                   vertical_flip=True,\n",
    "                                   fill_mode='nearest')\n",
    "\n",
    "img = load_img('DataSets/test/bottletype3/bottle030.png')\n",
    "x = img_to_array(img)\n",
    "x = x.reshape((1,) + x.shape)\n",
    "\n",
    "i = 0\n",
    "\n",
    "for batch in train_datagen.flow(x, batch_size=1, save_to_dir='DataSets/test/bottletype3', save_prefix='tri', save_format='png'):\n",
    "    i += 1\n",
    "    if i > 20: \n",
    "        break\n",
    "        \n"
   ]
  },
  {
   "cell_type": "markdown",
   "metadata": {},
   "source": [
    "Traing Setting"
   ]
  },
  {
   "cell_type": "code",
   "execution_count": 28,
   "metadata": {},
   "outputs": [
    {
     "name": "stdout",
     "output_type": "stream",
     "text": [
      "Found 468 images belonging to 12 classes.\n",
      "Found 462 images belonging to 12 classes.\n"
     ]
    }
   ],
   "source": [
    "train_generator = train_datagen.flow_from_directory(\n",
    "        'DataSets_02/train',\n",
    "        target_size=(24, 24),\n",
    "        batch_size=12,\n",
    "        class_mode='categorical')\n",
    "\n",
    "test_datagen = ImageDataGenerator(rescale=1./255)\n",
    "\n",
    "test_generator = test_datagen.flow_from_directory(\n",
    "        'DataSets_02/test',\n",
    "        target_size=(24, 24),    \n",
    "        batch_size=12,\n",
    "        class_mode='categorical')"
   ]
  },
  {
   "cell_type": "code",
   "execution_count": 29,
   "metadata": {},
   "outputs": [],
   "source": [
    "model = Sequential()\n",
    "model.add(Conv2D(32, kernel_size=(3, 3),\n",
    "                 activation='relu',\n",
    "                 input_shape=(24,24,3)))\n",
    "model.add(Conv2D(64, (3, 3), activation='relu'))\n",
    "model.add(MaxPooling2D(pool_size=(2, 2)))\n",
    "model.add(Flatten())\n",
    "model.add(Dense(128, activation='relu'))\n",
    "model.add(Dense(128, activation='relu'))\n",
    "model.add(Dense(64, activation='relu'))\n",
    "model.add(Dense(64, activation='relu'))\n",
    "model.add(Dense(12, activation='softmax'))"
   ]
  },
  {
   "cell_type": "code",
   "execution_count": 30,
   "metadata": {},
   "outputs": [
    {
     "data": {
      "image/svg+xml": [
       "<svg height=\"792pt\" viewBox=\"0.00 0.00 392.00 792.00\" width=\"392pt\" xmlns=\"http://www.w3.org/2000/svg\" xmlns:xlink=\"http://www.w3.org/1999/xlink\">\n",
       "<g class=\"graph\" id=\"graph0\" transform=\"scale(1 1) rotate(0) translate(4 788)\">\n",
       "<title>G</title>\n",
       "<polygon fill=\"white\" points=\"-4,4 -4,-788 388,-788 388,4 -4,4\" stroke=\"none\"/>\n",
       "<!-- 2664636406248 -->\n",
       "<g class=\"node\" id=\"node1\"><title>2664636406248</title>\n",
       "<polygon fill=\"none\" points=\"41,-664.5 41,-710.5 343,-710.5 343,-664.5 41,-664.5\" stroke=\"black\"/>\n",
       "<text font-family=\"Times New Roman,serif\" font-size=\"14.00\" text-anchor=\"middle\" x=\"104.5\" y=\"-683.8\">conv2d_5: Conv2D</text>\n",
       "<polyline fill=\"none\" points=\"168,-664.5 168,-710.5 \" stroke=\"black\"/>\n",
       "<text font-family=\"Times New Roman,serif\" font-size=\"14.00\" text-anchor=\"middle\" x=\"196\" y=\"-695.3\">input:</text>\n",
       "<polyline fill=\"none\" points=\"168,-687.5 224,-687.5 \" stroke=\"black\"/>\n",
       "<text font-family=\"Times New Roman,serif\" font-size=\"14.00\" text-anchor=\"middle\" x=\"196\" y=\"-672.3\">output:</text>\n",
       "<polyline fill=\"none\" points=\"224,-664.5 224,-710.5 \" stroke=\"black\"/>\n",
       "<text font-family=\"Times New Roman,serif\" font-size=\"14.00\" text-anchor=\"middle\" x=\"283.5\" y=\"-695.3\">(None, 24, 24, 3)</text>\n",
       "<polyline fill=\"none\" points=\"224,-687.5 343,-687.5 \" stroke=\"black\"/>\n",
       "<text font-family=\"Times New Roman,serif\" font-size=\"14.00\" text-anchor=\"middle\" x=\"283.5\" y=\"-672.3\">(None, 22, 22, 32)</text>\n",
       "</g>\n",
       "<!-- 2664636404568 -->\n",
       "<g class=\"node\" id=\"node2\"><title>2664636404568</title>\n",
       "<polygon fill=\"none\" points=\"41,-581.5 41,-627.5 343,-627.5 343,-581.5 41,-581.5\" stroke=\"black\"/>\n",
       "<text font-family=\"Times New Roman,serif\" font-size=\"14.00\" text-anchor=\"middle\" x=\"104.5\" y=\"-600.8\">conv2d_6: Conv2D</text>\n",
       "<polyline fill=\"none\" points=\"168,-581.5 168,-627.5 \" stroke=\"black\"/>\n",
       "<text font-family=\"Times New Roman,serif\" font-size=\"14.00\" text-anchor=\"middle\" x=\"196\" y=\"-612.3\">input:</text>\n",
       "<polyline fill=\"none\" points=\"168,-604.5 224,-604.5 \" stroke=\"black\"/>\n",
       "<text font-family=\"Times New Roman,serif\" font-size=\"14.00\" text-anchor=\"middle\" x=\"196\" y=\"-589.3\">output:</text>\n",
       "<polyline fill=\"none\" points=\"224,-581.5 224,-627.5 \" stroke=\"black\"/>\n",
       "<text font-family=\"Times New Roman,serif\" font-size=\"14.00\" text-anchor=\"middle\" x=\"283.5\" y=\"-612.3\">(None, 22, 22, 32)</text>\n",
       "<polyline fill=\"none\" points=\"224,-604.5 343,-604.5 \" stroke=\"black\"/>\n",
       "<text font-family=\"Times New Roman,serif\" font-size=\"14.00\" text-anchor=\"middle\" x=\"283.5\" y=\"-589.3\">(None, 20, 20, 64)</text>\n",
       "</g>\n",
       "<!-- 2664636406248&#45;&gt;2664636404568 -->\n",
       "<g class=\"edge\" id=\"edge2\"><title>2664636406248-&gt;2664636404568</title>\n",
       "<path d=\"M192,-664.366C192,-656.152 192,-646.658 192,-637.725\" fill=\"none\" stroke=\"black\"/>\n",
       "<polygon fill=\"black\" points=\"195.5,-637.607 192,-627.607 188.5,-637.607 195.5,-637.607\" stroke=\"black\"/>\n",
       "</g>\n",
       "<!-- 2664636405576 -->\n",
       "<g class=\"node\" id=\"node3\"><title>2664636405576</title>\n",
       "<polygon fill=\"none\" points=\"0,-498.5 0,-544.5 384,-544.5 384,-498.5 0,-498.5\" stroke=\"black\"/>\n",
       "<text font-family=\"Times New Roman,serif\" font-size=\"14.00\" text-anchor=\"middle\" x=\"104.5\" y=\"-517.8\">max_pooling2d_3: MaxPooling2D</text>\n",
       "<polyline fill=\"none\" points=\"209,-498.5 209,-544.5 \" stroke=\"black\"/>\n",
       "<text font-family=\"Times New Roman,serif\" font-size=\"14.00\" text-anchor=\"middle\" x=\"237\" y=\"-529.3\">input:</text>\n",
       "<polyline fill=\"none\" points=\"209,-521.5 265,-521.5 \" stroke=\"black\"/>\n",
       "<text font-family=\"Times New Roman,serif\" font-size=\"14.00\" text-anchor=\"middle\" x=\"237\" y=\"-506.3\">output:</text>\n",
       "<polyline fill=\"none\" points=\"265,-498.5 265,-544.5 \" stroke=\"black\"/>\n",
       "<text font-family=\"Times New Roman,serif\" font-size=\"14.00\" text-anchor=\"middle\" x=\"324.5\" y=\"-529.3\">(None, 20, 20, 64)</text>\n",
       "<polyline fill=\"none\" points=\"265,-521.5 384,-521.5 \" stroke=\"black\"/>\n",
       "<text font-family=\"Times New Roman,serif\" font-size=\"14.00\" text-anchor=\"middle\" x=\"324.5\" y=\"-506.3\">(None, 10, 10, 64)</text>\n",
       "</g>\n",
       "<!-- 2664636404568&#45;&gt;2664636405576 -->\n",
       "<g class=\"edge\" id=\"edge3\"><title>2664636404568-&gt;2664636405576</title>\n",
       "<path d=\"M192,-581.366C192,-573.152 192,-563.658 192,-554.725\" fill=\"none\" stroke=\"black\"/>\n",
       "<polygon fill=\"black\" points=\"195.5,-554.607 192,-544.607 188.5,-554.607 195.5,-554.607\" stroke=\"black\"/>\n",
       "</g>\n",
       "<!-- 2664636274504 -->\n",
       "<g class=\"node\" id=\"node4\"><title>2664636274504</title>\n",
       "<polygon fill=\"none\" points=\"50,-415.5 50,-461.5 334,-461.5 334,-415.5 50,-415.5\" stroke=\"black\"/>\n",
       "<text font-family=\"Times New Roman,serif\" font-size=\"14.00\" text-anchor=\"middle\" x=\"104.5\" y=\"-434.8\">flatten_3: Flatten</text>\n",
       "<polyline fill=\"none\" points=\"159,-415.5 159,-461.5 \" stroke=\"black\"/>\n",
       "<text font-family=\"Times New Roman,serif\" font-size=\"14.00\" text-anchor=\"middle\" x=\"187\" y=\"-446.3\">input:</text>\n",
       "<polyline fill=\"none\" points=\"159,-438.5 215,-438.5 \" stroke=\"black\"/>\n",
       "<text font-family=\"Times New Roman,serif\" font-size=\"14.00\" text-anchor=\"middle\" x=\"187\" y=\"-423.3\">output:</text>\n",
       "<polyline fill=\"none\" points=\"215,-415.5 215,-461.5 \" stroke=\"black\"/>\n",
       "<text font-family=\"Times New Roman,serif\" font-size=\"14.00\" text-anchor=\"middle\" x=\"274.5\" y=\"-446.3\">(None, 10, 10, 64)</text>\n",
       "<polyline fill=\"none\" points=\"215,-438.5 334,-438.5 \" stroke=\"black\"/>\n",
       "<text font-family=\"Times New Roman,serif\" font-size=\"14.00\" text-anchor=\"middle\" x=\"274.5\" y=\"-423.3\">(None, 6400)</text>\n",
       "</g>\n",
       "<!-- 2664636405576&#45;&gt;2664636274504 -->\n",
       "<g class=\"edge\" id=\"edge4\"><title>2664636405576-&gt;2664636274504</title>\n",
       "<path d=\"M192,-498.366C192,-490.152 192,-480.658 192,-471.725\" fill=\"none\" stroke=\"black\"/>\n",
       "<polygon fill=\"black\" points=\"195.5,-471.607 192,-461.607 188.5,-471.607 195.5,-471.607\" stroke=\"black\"/>\n",
       "</g>\n",
       "<!-- 2664636312096 -->\n",
       "<g class=\"node\" id=\"node5\"><title>2664636312096</title>\n",
       "<polygon fill=\"none\" points=\"63.5,-332.5 63.5,-378.5 320.5,-378.5 320.5,-332.5 63.5,-332.5\" stroke=\"black\"/>\n",
       "<text font-family=\"Times New Roman,serif\" font-size=\"14.00\" text-anchor=\"middle\" x=\"119\" y=\"-351.8\">dense_11: Dense</text>\n",
       "<polyline fill=\"none\" points=\"174.5,-332.5 174.5,-378.5 \" stroke=\"black\"/>\n",
       "<text font-family=\"Times New Roman,serif\" font-size=\"14.00\" text-anchor=\"middle\" x=\"202.5\" y=\"-363.3\">input:</text>\n",
       "<polyline fill=\"none\" points=\"174.5,-355.5 230.5,-355.5 \" stroke=\"black\"/>\n",
       "<text font-family=\"Times New Roman,serif\" font-size=\"14.00\" text-anchor=\"middle\" x=\"202.5\" y=\"-340.3\">output:</text>\n",
       "<polyline fill=\"none\" points=\"230.5,-332.5 230.5,-378.5 \" stroke=\"black\"/>\n",
       "<text font-family=\"Times New Roman,serif\" font-size=\"14.00\" text-anchor=\"middle\" x=\"275.5\" y=\"-363.3\">(None, 6400)</text>\n",
       "<polyline fill=\"none\" points=\"230.5,-355.5 320.5,-355.5 \" stroke=\"black\"/>\n",
       "<text font-family=\"Times New Roman,serif\" font-size=\"14.00\" text-anchor=\"middle\" x=\"275.5\" y=\"-340.3\">(None, 128)</text>\n",
       "</g>\n",
       "<!-- 2664636274504&#45;&gt;2664636312096 -->\n",
       "<g class=\"edge\" id=\"edge5\"><title>2664636274504-&gt;2664636312096</title>\n",
       "<path d=\"M192,-415.366C192,-407.152 192,-397.658 192,-388.725\" fill=\"none\" stroke=\"black\"/>\n",
       "<polygon fill=\"black\" points=\"195.5,-388.607 192,-378.607 188.5,-388.607 195.5,-388.607\" stroke=\"black\"/>\n",
       "</g>\n",
       "<!-- 2664636311760 -->\n",
       "<g class=\"node\" id=\"node6\"><title>2664636311760</title>\n",
       "<polygon fill=\"none\" points=\"67,-249.5 67,-295.5 317,-295.5 317,-249.5 67,-249.5\" stroke=\"black\"/>\n",
       "<text font-family=\"Times New Roman,serif\" font-size=\"14.00\" text-anchor=\"middle\" x=\"122.5\" y=\"-268.8\">dense_12: Dense</text>\n",
       "<polyline fill=\"none\" points=\"178,-249.5 178,-295.5 \" stroke=\"black\"/>\n",
       "<text font-family=\"Times New Roman,serif\" font-size=\"14.00\" text-anchor=\"middle\" x=\"206\" y=\"-280.3\">input:</text>\n",
       "<polyline fill=\"none\" points=\"178,-272.5 234,-272.5 \" stroke=\"black\"/>\n",
       "<text font-family=\"Times New Roman,serif\" font-size=\"14.00\" text-anchor=\"middle\" x=\"206\" y=\"-257.3\">output:</text>\n",
       "<polyline fill=\"none\" points=\"234,-249.5 234,-295.5 \" stroke=\"black\"/>\n",
       "<text font-family=\"Times New Roman,serif\" font-size=\"14.00\" text-anchor=\"middle\" x=\"275.5\" y=\"-280.3\">(None, 128)</text>\n",
       "<polyline fill=\"none\" points=\"234,-272.5 317,-272.5 \" stroke=\"black\"/>\n",
       "<text font-family=\"Times New Roman,serif\" font-size=\"14.00\" text-anchor=\"middle\" x=\"275.5\" y=\"-257.3\">(None, 128)</text>\n",
       "</g>\n",
       "<!-- 2664636312096&#45;&gt;2664636311760 -->\n",
       "<g class=\"edge\" id=\"edge6\"><title>2664636312096-&gt;2664636311760</title>\n",
       "<path d=\"M192,-332.366C192,-324.152 192,-314.658 192,-305.725\" fill=\"none\" stroke=\"black\"/>\n",
       "<polygon fill=\"black\" points=\"195.5,-305.607 192,-295.607 188.5,-305.607 195.5,-305.607\" stroke=\"black\"/>\n",
       "</g>\n",
       "<!-- 2664636302840 -->\n",
       "<g class=\"node\" id=\"node7\"><title>2664636302840</title>\n",
       "<polygon fill=\"none\" points=\"67,-166.5 67,-212.5 317,-212.5 317,-166.5 67,-166.5\" stroke=\"black\"/>\n",
       "<text font-family=\"Times New Roman,serif\" font-size=\"14.00\" text-anchor=\"middle\" x=\"122.5\" y=\"-185.8\">dense_13: Dense</text>\n",
       "<polyline fill=\"none\" points=\"178,-166.5 178,-212.5 \" stroke=\"black\"/>\n",
       "<text font-family=\"Times New Roman,serif\" font-size=\"14.00\" text-anchor=\"middle\" x=\"206\" y=\"-197.3\">input:</text>\n",
       "<polyline fill=\"none\" points=\"178,-189.5 234,-189.5 \" stroke=\"black\"/>\n",
       "<text font-family=\"Times New Roman,serif\" font-size=\"14.00\" text-anchor=\"middle\" x=\"206\" y=\"-174.3\">output:</text>\n",
       "<polyline fill=\"none\" points=\"234,-166.5 234,-212.5 \" stroke=\"black\"/>\n",
       "<text font-family=\"Times New Roman,serif\" font-size=\"14.00\" text-anchor=\"middle\" x=\"275.5\" y=\"-197.3\">(None, 128)</text>\n",
       "<polyline fill=\"none\" points=\"234,-189.5 317,-189.5 \" stroke=\"black\"/>\n",
       "<text font-family=\"Times New Roman,serif\" font-size=\"14.00\" text-anchor=\"middle\" x=\"275.5\" y=\"-174.3\">(None, 64)</text>\n",
       "</g>\n",
       "<!-- 2664636311760&#45;&gt;2664636302840 -->\n",
       "<g class=\"edge\" id=\"edge7\"><title>2664636311760-&gt;2664636302840</title>\n",
       "<path d=\"M192,-249.366C192,-241.152 192,-231.658 192,-222.725\" fill=\"none\" stroke=\"black\"/>\n",
       "<polygon fill=\"black\" points=\"195.5,-222.607 192,-212.607 188.5,-222.607 195.5,-222.607\" stroke=\"black\"/>\n",
       "</g>\n",
       "<!-- 2664584008872 -->\n",
       "<g class=\"node\" id=\"node8\"><title>2664584008872</title>\n",
       "<polygon fill=\"none\" points=\"70,-83.5 70,-129.5 314,-129.5 314,-83.5 70,-83.5\" stroke=\"black\"/>\n",
       "<text font-family=\"Times New Roman,serif\" font-size=\"14.00\" text-anchor=\"middle\" x=\"125.5\" y=\"-102.8\">dense_14: Dense</text>\n",
       "<polyline fill=\"none\" points=\"181,-83.5 181,-129.5 \" stroke=\"black\"/>\n",
       "<text font-family=\"Times New Roman,serif\" font-size=\"14.00\" text-anchor=\"middle\" x=\"209\" y=\"-114.3\">input:</text>\n",
       "<polyline fill=\"none\" points=\"181,-106.5 237,-106.5 \" stroke=\"black\"/>\n",
       "<text font-family=\"Times New Roman,serif\" font-size=\"14.00\" text-anchor=\"middle\" x=\"209\" y=\"-91.3\">output:</text>\n",
       "<polyline fill=\"none\" points=\"237,-83.5 237,-129.5 \" stroke=\"black\"/>\n",
       "<text font-family=\"Times New Roman,serif\" font-size=\"14.00\" text-anchor=\"middle\" x=\"275.5\" y=\"-114.3\">(None, 64)</text>\n",
       "<polyline fill=\"none\" points=\"237,-106.5 314,-106.5 \" stroke=\"black\"/>\n",
       "<text font-family=\"Times New Roman,serif\" font-size=\"14.00\" text-anchor=\"middle\" x=\"275.5\" y=\"-91.3\">(None, 64)</text>\n",
       "</g>\n",
       "<!-- 2664636302840&#45;&gt;2664584008872 -->\n",
       "<g class=\"edge\" id=\"edge8\"><title>2664636302840-&gt;2664584008872</title>\n",
       "<path d=\"M192,-166.366C192,-158.152 192,-148.658 192,-139.725\" fill=\"none\" stroke=\"black\"/>\n",
       "<polygon fill=\"black\" points=\"195.5,-139.607 192,-129.607 188.5,-139.607 195.5,-139.607\" stroke=\"black\"/>\n",
       "</g>\n",
       "<!-- 2671089336616 -->\n",
       "<g class=\"node\" id=\"node9\"><title>2671089336616</title>\n",
       "<polygon fill=\"none\" points=\"70,-0.5 70,-46.5 314,-46.5 314,-0.5 70,-0.5\" stroke=\"black\"/>\n",
       "<text font-family=\"Times New Roman,serif\" font-size=\"14.00\" text-anchor=\"middle\" x=\"125.5\" y=\"-19.8\">dense_15: Dense</text>\n",
       "<polyline fill=\"none\" points=\"181,-0.5 181,-46.5 \" stroke=\"black\"/>\n",
       "<text font-family=\"Times New Roman,serif\" font-size=\"14.00\" text-anchor=\"middle\" x=\"209\" y=\"-31.3\">input:</text>\n",
       "<polyline fill=\"none\" points=\"181,-23.5 237,-23.5 \" stroke=\"black\"/>\n",
       "<text font-family=\"Times New Roman,serif\" font-size=\"14.00\" text-anchor=\"middle\" x=\"209\" y=\"-8.3\">output:</text>\n",
       "<polyline fill=\"none\" points=\"237,-0.5 237,-46.5 \" stroke=\"black\"/>\n",
       "<text font-family=\"Times New Roman,serif\" font-size=\"14.00\" text-anchor=\"middle\" x=\"275.5\" y=\"-31.3\">(None, 64)</text>\n",
       "<polyline fill=\"none\" points=\"237,-23.5 314,-23.5 \" stroke=\"black\"/>\n",
       "<text font-family=\"Times New Roman,serif\" font-size=\"14.00\" text-anchor=\"middle\" x=\"275.5\" y=\"-8.3\">(None, 12)</text>\n",
       "</g>\n",
       "<!-- 2664584008872&#45;&gt;2671089336616 -->\n",
       "<g class=\"edge\" id=\"edge9\"><title>2664584008872-&gt;2671089336616</title>\n",
       "<path d=\"M192,-83.3664C192,-75.1516 192,-65.6579 192,-56.7252\" fill=\"none\" stroke=\"black\"/>\n",
       "<polygon fill=\"black\" points=\"195.5,-56.6068 192,-46.6068 188.5,-56.6069 195.5,-56.6068\" stroke=\"black\"/>\n",
       "</g>\n",
       "<!-- 2664636405072 -->\n",
       "<g class=\"node\" id=\"node10\"><title>2664636405072</title>\n",
       "<polygon fill=\"none\" points=\"140,-747.5 140,-783.5 244,-783.5 244,-747.5 140,-747.5\" stroke=\"black\"/>\n",
       "<text font-family=\"Times New Roman,serif\" font-size=\"14.00\" text-anchor=\"middle\" x=\"192\" y=\"-761.8\">2664636405072</text>\n",
       "</g>\n",
       "<!-- 2664636405072&#45;&gt;2664636406248 -->\n",
       "<g class=\"edge\" id=\"edge1\"><title>2664636405072-&gt;2664636406248</title>\n",
       "<path d=\"M192,-747.254C192,-739.363 192,-729.749 192,-720.602\" fill=\"none\" stroke=\"black\"/>\n",
       "<polygon fill=\"black\" points=\"195.5,-720.591 192,-710.591 188.5,-720.591 195.5,-720.591\" stroke=\"black\"/>\n",
       "</g>\n",
       "</g>\n",
       "</svg>"
      ],
      "text/plain": [
       "<IPython.core.display.SVG object>"
      ]
     },
     "execution_count": 30,
     "metadata": {},
     "output_type": "execute_result"
    }
   ],
   "source": [
    "from IPython.display import SVG\n",
    "from keras.utils.vis_utils import model_to_dot\n",
    "\n",
    "%matplotlib inline\n",
    "\n",
    "SVG(model_to_dot(model, show_shapes=True).create(prog='dot', format='svg'))"
   ]
  },
  {
   "cell_type": "code",
   "execution_count": 31,
   "metadata": {},
   "outputs": [],
   "source": [
    "early_stopping = EarlyStopping(monitor='val_loss', verbose=1)"
   ]
  },
  {
   "cell_type": "code",
   "execution_count": 32,
   "metadata": {},
   "outputs": [],
   "source": [
    "model.compile(loss='categorical_crossentropy', optimizer='adam', metrics=['accuracy'])"
   ]
  },
  {
   "cell_type": "code",
   "execution_count": 33,
   "metadata": {},
   "outputs": [],
   "source": [
    "tb_hist = keras.callbacks.TensorBoard(log_dir='graph2', histogram_freq=0, write_graph=True, write_images=True)"
   ]
  },
  {
   "cell_type": "markdown",
   "metadata": {},
   "source": [
    "keras.callbacks.TensorBoard(log_dir='DataSets/graph', histogram_freq=0, batch_size=3, write_graph=True, write_grads=False, write_images=False, embeddings_freq=0, embeddings_layer_names=None, embeddings_metadata=None, embeddings_data=None, update_freq='epoch')"
   ]
  },
  {
   "cell_type": "code",
   "execution_count": 34,
   "metadata": {},
   "outputs": [
    {
     "name": "stdout",
     "output_type": "stream",
     "text": [
      "Epoch 1/50\n",
      "1500/1500 [==============================] - 1222s 814ms/step - loss: 1.4452 - acc: 0.3072 - val_loss: 1.3649 - val_acc: 0.3333\n",
      "WARNING:tensorflow:From C:\\Users\\82107\\Anaconda3\\envs\\keras\\lib\\site-packages\\keras\\callbacks.py:995: The name tf.Summary is deprecated. Please use tf.compat.v1.Summary instead.\n",
      "\n",
      "Epoch 2/50\n",
      "1500/1500 [==============================] - 1214s 809ms/step - loss: 1.3241 - acc: 0.3614 - val_loss: 1.2858 - val_acc: 0.3667\n",
      "Epoch 3/50\n",
      "1500/1500 [==============================] - 1213s 809ms/step - loss: 1.2512 - acc: 0.4111 - val_loss: 1.4453 - val_acc: 0.3167\n",
      "Epoch 00003: early stopping\n"
     ]
    },
    {
     "data": {
      "text/plain": [
       "<keras.callbacks.History at 0x26c68b41668>"
      ]
     },
     "execution_count": 34,
     "metadata": {},
     "output_type": "execute_result"
    }
   ],
   "source": [
    "model.fit_generator(\n",
    "        train_generator,\n",
    "        steps_per_epoch=15 * 100,\n",
    "        epochs=50,\n",
    "        validation_data=test_generator,\n",
    "        validation_steps=5,\n",
    "        callbacks=[early_stopping, tb_hist])"
   ]
  },
  {
   "cell_type": "code",
   "execution_count": 35,
   "metadata": {},
   "outputs": [
    {
     "name": "stdout",
     "output_type": "stream",
     "text": [
      "-- Evaluate --\n",
      "acc: 33.33%\n"
     ]
    }
   ],
   "source": [
    "print(\"-- Evaluate --\")\n",
    "scores = model.evaluate_generator(test_generator, steps=5)\n",
    "print(\"%s: %.2f%%\" %(model.metrics_names[1], scores[1]*100))"
   ]
  },
  {
   "cell_type": "code",
   "execution_count": 36,
   "metadata": {
    "scrolled": true
   },
   "outputs": [
    {
     "name": "stdout",
     "output_type": "stream",
     "text": [
      "-- Predict --\n",
      "{'AfterFacePic_Class4': 0, 'AfterTeethPic_Class4': 1, 'AfterXrayPic_Class4': 2, 'FacePic_Class1': 3, 'FacePic_Class2': 4, 'FacePic_Class3': 5, 'TeethPic_Class1': 6, 'TeethPic_Class2': 7, 'TeethPic_Class3': 8, 'XrayPic_Class1': 9, 'XrayPic_Class2': 10, 'XrayPic_Class3': 11}\n",
      "[[0.000 0.019 0.000 0.000 0.000 0.000 0.106 0.075 0.800 0.000 0.000 0.000]\n",
      " [0.000 0.200 0.000 0.000 0.000 0.000 0.431 0.161 0.207 0.000 0.000 0.000]\n",
      " [0.470 0.000 0.000 0.154 0.212 0.162 0.001 0.000 0.000 0.000 0.000 0.000]\n",
      " [0.565 0.000 0.000 0.166 0.189 0.080 0.000 0.000 0.000 0.000 0.000 0.000]\n",
      " [0.439 0.000 0.000 0.237 0.182 0.142 0.000 0.000 0.000 0.000 0.000 0.000]\n",
      " [0.000 0.114 0.000 0.001 0.001 0.000 0.430 0.139 0.314 0.000 0.000 0.000]\n",
      " [0.000 0.000 0.131 0.000 0.000 0.000 0.000 0.000 0.000 0.424 0.292 0.153]\n",
      " [0.287 0.000 0.000 0.231 0.163 0.318 0.001 0.000 0.000 0.000 0.000 0.000]\n",
      " [0.000 0.000 0.137 0.000 0.000 0.000 0.000 0.000 0.000 0.411 0.283 0.169]\n",
      " [0.000 0.000 0.138 0.000 0.000 0.000 0.000 0.000 0.000 0.412 0.289 0.162]\n",
      " [0.000 0.247 0.000 0.000 0.000 0.000 0.450 0.158 0.144 0.000 0.000 0.000]\n",
      " [0.001 0.288 0.000 0.000 0.001 0.000 0.324 0.255 0.131 0.000 0.000 0.000]\n",
      " [0.000 0.000 0.137 0.000 0.000 0.000 0.000 0.000 0.000 0.425 0.280 0.158]\n",
      " [0.499 0.000 0.000 0.226 0.201 0.074 0.000 0.000 0.000 0.000 0.000 0.000]\n",
      " [0.504 0.000 0.000 0.101 0.285 0.108 0.001 0.000 0.000 0.000 0.000 0.000]\n",
      " [0.132 0.000 0.000 0.019 0.672 0.176 0.000 0.000 0.000 0.000 0.000 0.000]\n",
      " [0.600 0.000 0.000 0.075 0.249 0.074 0.001 0.000 0.000 0.000 0.000 0.000]\n",
      " [0.424 0.000 0.000 0.148 0.227 0.201 0.000 0.000 0.000 0.000 0.000 0.000]\n",
      " [0.616 0.000 0.000 0.126 0.205 0.051 0.001 0.000 0.000 0.000 0.000 0.000]\n",
      " [0.000 0.156 0.000 0.000 0.000 0.000 0.151 0.496 0.197 0.000 0.000 0.000]\n",
      " [0.772 0.000 0.000 0.022 0.193 0.013 0.000 0.000 0.000 0.000 0.000 0.000]\n",
      " [0.000 0.234 0.000 0.000 0.000 0.000 0.351 0.257 0.157 0.000 0.000 0.000]\n",
      " [0.000 0.081 0.000 0.000 0.000 0.000 0.375 0.124 0.420 0.000 0.000 0.000]\n",
      " [0.000 0.140 0.000 0.000 0.000 0.000 0.578 0.102 0.179 0.000 0.000 0.000]\n",
      " [0.251 0.002 0.000 0.080 0.287 0.375 0.003 0.002 0.000 0.000 0.000 0.000]\n",
      " [0.491 0.000 0.000 0.193 0.194 0.121 0.000 0.000 0.000 0.000 0.000 0.000]\n",
      " [0.000 0.213 0.000 0.000 0.001 0.000 0.546 0.125 0.114 0.000 0.000 0.000]\n",
      " [0.000 0.001 0.000 0.000 0.000 0.000 0.004 0.004 0.991 0.000 0.000 0.000]\n",
      " [0.125 0.000 0.000 0.230 0.150 0.495 0.000 0.000 0.000 0.000 0.000 0.000]\n",
      " [0.000 0.000 0.136 0.000 0.000 0.000 0.000 0.000 0.000 0.413 0.289 0.162]\n",
      " [0.606 0.000 0.000 0.173 0.173 0.048 0.000 0.000 0.000 0.000 0.000 0.000]\n",
      " [0.000 0.000 0.148 0.000 0.000 0.000 0.000 0.000 0.000 0.398 0.278 0.176]\n",
      " [0.000 0.000 0.145 0.000 0.000 0.000 0.000 0.000 0.000 0.409 0.277 0.169]\n",
      " [0.000 0.046 0.000 0.000 0.000 0.000 0.265 0.080 0.609 0.000 0.000 0.000]\n",
      " [0.000 0.092 0.000 0.000 0.001 0.000 0.496 0.125 0.285 0.000 0.000 0.000]\n",
      " [0.000 0.000 0.130 0.000 0.000 0.000 0.000 0.000 0.000 0.427 0.292 0.151]\n",
      " [0.000 0.000 0.000 0.000 0.000 0.000 0.002 0.003 0.994 0.000 0.000 0.000]\n",
      " [0.000 0.000 0.147 0.000 0.000 0.000 0.000 0.000 0.000 0.392 0.263 0.199]\n",
      " [0.000 0.041 0.000 0.000 0.000 0.000 0.098 0.381 0.480 0.000 0.000 0.000]\n",
      " [0.000 0.049 0.000 0.000 0.000 0.000 0.237 0.069 0.644 0.000 0.000 0.000]\n",
      " [0.378 0.000 0.000 0.147 0.256 0.218 0.001 0.000 0.000 0.000 0.000 0.000]\n",
      " [0.000 0.168 0.000 0.000 0.000 0.000 0.484 0.134 0.215 0.000 0.000 0.000]\n",
      " [0.000 0.000 0.128 0.000 0.000 0.000 0.000 0.000 0.000 0.429 0.295 0.148]\n",
      " [0.667 0.000 0.000 0.124 0.167 0.041 0.000 0.000 0.000 0.000 0.000 0.000]\n",
      " [0.120 0.000 0.000 0.139 0.155 0.587 0.000 0.000 0.000 0.000 0.000 0.000]\n",
      " [0.000 0.000 0.136 0.000 0.000 0.000 0.000 0.000 0.000 0.424 0.285 0.156]\n",
      " [0.721 0.000 0.000 0.034 0.234 0.011 0.000 0.000 0.000 0.000 0.000 0.000]\n",
      " [0.626 0.000 0.000 0.168 0.185 0.022 0.000 0.000 0.000 0.000 0.000 0.000]\n",
      " [0.550 0.000 0.000 0.145 0.262 0.041 0.001 0.000 0.000 0.000 0.000 0.000]\n",
      " [0.000 0.296 0.000 0.000 0.000 0.000 0.442 0.137 0.124 0.000 0.000 0.000]\n",
      " [0.001 0.173 0.000 0.001 0.002 0.001 0.332 0.212 0.277 0.000 0.000 0.000]\n",
      " [0.000 0.015 0.000 0.000 0.000 0.000 0.048 0.067 0.869 0.000 0.000 0.000]\n",
      " [0.653 0.000 0.000 0.100 0.231 0.016 0.000 0.000 0.000 0.000 0.000 0.000]\n",
      " [0.465 0.000 0.000 0.221 0.165 0.149 0.001 0.000 0.000 0.000 0.000 0.000]\n",
      " [0.552 0.000 0.000 0.115 0.249 0.084 0.000 0.000 0.000 0.000 0.000 0.000]\n",
      " [0.000 0.000 0.122 0.000 0.000 0.000 0.000 0.000 0.000 0.448 0.291 0.139]\n",
      " [0.400 0.000 0.000 0.105 0.276 0.219 0.000 0.000 0.000 0.000 0.000 0.000]\n",
      " [0.000 0.051 0.000 0.000 0.000 0.000 0.327 0.087 0.535 0.000 0.000 0.000]\n",
      " [0.000 0.000 0.136 0.000 0.000 0.000 0.000 0.000 0.000 0.424 0.285 0.156]\n",
      " [0.111 0.000 0.000 0.077 0.812 0.000 0.000 0.000 0.000 0.000 0.000 0.000]]\n"
     ]
    }
   ],
   "source": [
    "print(\"-- Predict --\")\n",
    "output = model.predict_generator(test_generator, steps=5)\n",
    "np.set_printoptions(formatter={'float': lambda x: \"{0:0.3f}\".format(x)})\n",
    "print(test_generator.class_indices)\n",
    "print(output)"
   ]
  },
  {
   "cell_type": "code",
   "execution_count": 37,
   "metadata": {},
   "outputs": [],
   "source": [
    "model_json = model.to_json()\n",
    "with open(\"model.json\", \"w\") as json_file : \n",
    "    json_file.write(model_json)"
   ]
  },
  {
   "cell_type": "code",
   "execution_count": 38,
   "metadata": {},
   "outputs": [
    {
     "name": "stdout",
     "output_type": "stream",
     "text": [
      "Saved model to disk\n"
     ]
    }
   ],
   "source": [
    "model.save_weights(\"model.h5\")\n",
    "print(\"Saved model to disk\")"
   ]
  },
  {
   "cell_type": "code",
   "execution_count": null,
   "metadata": {},
   "outputs": [],
   "source": []
  }
 ],
 "metadata": {
  "kernelspec": {
   "display_name": "Python 3",
   "language": "python",
   "name": "python3"
  },
  "language_info": {
   "codemirror_mode": {
    "name": "ipython",
    "version": 3
   },
   "file_extension": ".py",
   "mimetype": "text/x-python",
   "name": "python",
   "nbconvert_exporter": "python",
   "pygments_lexer": "ipython3",
   "version": "3.6.10"
  }
 },
 "nbformat": 4,
 "nbformat_minor": 2
}
